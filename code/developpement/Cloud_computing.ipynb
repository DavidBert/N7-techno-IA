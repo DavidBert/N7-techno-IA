{
  "nbformat": 4,
  "nbformat_minor": 0,
  "metadata": {
    "colab": {
      "name": "Cloud_computing.ipynb",
      "provenance": [],
      "collapsed_sections": []
    },
    "kernelspec": {
      "name": "python3",
      "display_name": "Python 3"
    },
    "language_info": {
      "name": "python"
    },
    "accelerator": "GPU"
  },
  "cells": [
    {
      "cell_type": "markdown",
      "metadata": {
        "id": "1W45-CJXzw4X"
      },
      "source": [
        "# Development for Data Scientist:\n",
        "## Introduction to Cloud Computing"
      ]
    },
    {
      "cell_type": "markdown",
      "metadata": {
        "id": "H07JPawS68eD"
      },
      "source": [
        "Clone your repository."
      ]
    },
    {
      "cell_type": "code",
      "metadata": {
        "id": "_Moov6wE6vd9"
      },
      "source": [
        "!git clone [YOUR_REPOSITORY]"
      ],
      "execution_count": null,
      "outputs": []
    },
    {
      "cell_type": "markdown",
      "metadata": {
        "id": "Z5NCvUvXBUk9"
      },
      "source": [
        "To enable the tensorboard compatibility with colab, add the following lines after the imports of `colorize.py`. (ctrl+s to save)\n",
        "\n",
        "```python\n",
        "import tensorflow as tf  \n",
        "import tensorboard as tb  \n",
        "tf.io.gfile = tb.compat.tensorflow_stub.io.gfile\n",
        "```"
      ]
    },
    {
      "cell_type": "markdown",
      "source": [
        "Let's download the dataset."
      ],
      "metadata": {
        "id": "_jN06ecQkFrT"
      }
    },
    {
      "cell_type": "code",
      "metadata": {
        "id": "9jJyMWxV6-8Q"
      },
      "source": [
        "!chmod +x download_landscapes.sh\n",
        "!./download_landscapes.sh > /dev/null 2>&1"
      ],
      "execution_count": null,
      "outputs": []
    },
    {
      "cell_type": "markdown",
      "metadata": {
        "id": "HR1d1xsyBw8j"
      },
      "source": [
        "Since training may be a little long we will start tensorboard before training for monitoring purposes."
      ]
    },
    {
      "cell_type": "code",
      "metadata": {
        "id": "9WNkvg6H7HcR"
      },
      "source": [
        "# Load the TensorBoard notebook extension\n",
        "%load_ext tensorboard\n",
        "%tensorboard --logdir runs"
      ],
      "execution_count": null,
      "outputs": []
    },
    {
      "cell_type": "code",
      "metadata": {
        "id": "3QzretES76Qz"
      },
      "source": [
        "!python colorize.py --data_path 'landscapes' --batch_size 32 --epochs 10"
      ],
      "execution_count": null,
      "outputs": []
    },
    {
      "cell_type": "markdown",
      "metadata": {
        "id": "2U6xR7LOCX2T"
      },
      "source": [
        "Training may be a little long but after the first epoch you should be able to visualize the progression of your network while it is training in the images tab (do not forget to refresh on the top right icon).  \n",
        "![](https://wikistat.github.io/AI-Frameworks/img/tb_images.png)\n",
        "\n",
        "Check on your network graph. You should see the U shape of your Unet.\n",
        "![](https://wikistat.github.io/AI-Frameworks/img/unet_tb.png)"
      ]
    },
    {
      "cell_type": "markdown",
      "source": [
        "Download the resulting weights ```unet.pth```to your local machine."
      ],
      "metadata": {
        "id": "o8QOP9y3k2kV"
      }
    }
  ]
}